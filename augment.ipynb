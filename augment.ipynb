{
 "cells": [
  {
   "cell_type": "code",
   "execution_count": 22,
   "metadata": {},
   "outputs": [],
   "source": [
    "import torch\n",
    "import torchvision.transforms as tf\n",
    "import albumentations as A\n",
    "from torchvision.transforms.functional import adjust_sharpness\n",
    "\n"
   ]
  },
  {
   "cell_type": "markdown",
   "metadata": {},
   "source": [
    "# 0. Normal video cloning"
   ]
  },
  {
   "cell_type": "code",
   "execution_count": 23,
   "metadata": {},
   "outputs": [],
   "source": [
    "import cv2\n",
    "\n",
    "def read_and_write_video(input_video_path, output_video_path):\n",
    "    \"\"\"\n",
    "    Reads a video from a file and writes it to another file in MP4 format.\n",
    "    \n",
    "    Args:\n",
    "        input_video_path (str): Path to the input video file.\n",
    "        output_video_path (str): Path to the output video file.\n",
    "    \"\"\"\n",
    "    # Open the input video file\n",
    "    cap = cv2.VideoCapture(input_video_path)\n",
    "    # Get video properties\n",
    "    fps = cap.get(cv2.CAP_PROP_FPS)\n",
    "    width = int(cap.get(cv2.CAP_PROP_FRAME_WIDTH))\n",
    "    height = int(cap.get(cv2.CAP_PROP_FRAME_HEIGHT))    \n",
    "    # Create the video writer\n",
    "    fourcc = cv2.VideoWriter_fourcc(*'mp4v')\n",
    "    out = cv2.VideoWriter(output_video_path, fourcc, fps, (width, height))\n",
    "    \n",
    "    \n",
    "    # Process each frame\n",
    "    frame_count = 0\n",
    "    while True:\n",
    "        ret, frame = cap.read()\n",
    "        if not ret:\n",
    "            break\n",
    "        # Write the frame to the output video\n",
    "        out.write(frame)\n",
    "        # Update the frame count\n",
    "        frame_count += 1\n",
    "    # Release the video capture and writer\n",
    "    cap.release()\n",
    "    out.release()\n",
    "    # Get output video information\n",
    "    out_cap = cv2.VideoCapture(output_video_path)\n",
    "    out_cap.release()\n",
    "    \n",
    "\n"
   ]
  },
  {
   "cell_type": "markdown",
   "metadata": {},
   "source": [
    "# 1. Lower sharpness"
   ]
  },
  {
   "cell_type": "code",
   "execution_count": 24,
   "metadata": {},
   "outputs": [],
   "source": [
    "\n",
    "\n",
    "\n",
    "def reduce_sharpness(input_video_path, output_video_path, sharpness_factor):\n",
    "    \"\"\"\n",
    "    Reduces the sharpness of a video.\n",
    "    \n",
    "    Args:\n",
    "        input_video_path (str): Path to the input video file.\n",
    "        output_video_path (str): Path to the output video file.\n",
    "        sharpness_factor (float, optional): Sharpness factor, ranging from 0 (blurred) to 2 (sharpened). Defaults to 0.5.\n",
    "    \"\"\"\n",
    "    totensor = tf.ToTensor()\n",
    "    # Load the video\n",
    "    cap = cv2.VideoCapture(input_video_path)\n",
    "    # Get video properties\n",
    "    fps = cap.get(cv2.CAP_PROP_FPS)\n",
    "    width = int(cap.get(cv2.CAP_PROP_FRAME_WIDTH))\n",
    "    height = int(cap.get(cv2.CAP_PROP_FRAME_HEIGHT))\n",
    "    total_frames = int(cap.get(cv2.CAP_PROP_FRAME_COUNT))\n",
    "    # Create the video writer\n",
    "    fourcc = cv2.VideoWriter_fourcc(*'mp4v') # correct format\n",
    "    out = cv2.VideoWriter(output_video_path, fourcc, fps, (width, height))\n",
    "    \n",
    "    \n",
    "    \n",
    "    # Process each frame\n",
    "    frame_count = 0\n",
    "    for frame_count in range(total_frames):\n",
    "        ret, frame = cap.read()\n",
    "        if not ret:\n",
    "            break\n",
    "        # Convert the frame to a PyTorch tensor\n",
    "        frame_tensor = totensor(frame)\n",
    "        # Adjust the sharpness of the frame \n",
    "        adjusted_frame_tensor = adjust_sharpness(frame_tensor, sharpness_factor)\n",
    "        # Convert the adjusted frame back to a NumPy array\n",
    "        adjusted_frame = (adjusted_frame_tensor.squeeze(0).permute(1, 2, 0) * 255).byte().numpy()\n",
    "        # Write the adjusted frame to the output video\n",
    "        out.write(adjusted_frame)\n",
    "        frame_count += 1\n",
    "        \n",
    "    # Release the video capture and writer\n",
    "    cap.release()\n",
    "    out.release()\n",
    "    \n",
    "    # Print information about the output video after sharpness\n",
    "    cv2.VideoCapture(output_video_path).release()\n",
    "    cv2.destroyAllWindows()\n",
    "\n",
    "\n"
   ]
  },
  {
   "cell_type": "code",
   "execution_count": 28,
   "metadata": {},
   "outputs": [],
   "source": [
    "\n",
    "reduce_sharpness('./videos/football.mp4','output/low_sharp.mp4', 60) # average sharpness augmentation time: 11s\n",
    "# read_and_write_video('./videos/football.mp4','output/low_sharp.mp4')"
   ]
  },
  {
   "cell_type": "markdown",
   "metadata": {},
   "source": [
    "# 2. Gaussian noise"
   ]
  },
  {
   "cell_type": "code",
   "execution_count": 29,
   "metadata": {},
   "outputs": [],
   "source": [
    "\n",
    "\n",
    "\n",
    "def gaussian_noise(input_video_path, output_video_path, noise_std):\n",
    "    \"\"\"\n",
    "    Reduces the sharpness of a video.\n",
    "    \n",
    "    Args:\n",
    "        input_video_path (str): Path to the input video file.\n",
    "        output_video_path (str): Path to the output video file.\n",
    "        sharpness_factor (float, optional): Noise stdev, default 10\n",
    "    \"\"\"\n",
    "    totensor = tf.ToTensor()\n",
    "    # Load the video\n",
    "    cap = cv2.VideoCapture(input_video_path)\n",
    "    # Get video properties\n",
    "    fps = cap.get(cv2.CAP_PROP_FPS)\n",
    "    width = int(cap.get(cv2.CAP_PROP_FRAME_WIDTH))\n",
    "    height = int(cap.get(cv2.CAP_PROP_FRAME_HEIGHT))\n",
    "    total_frames = int(cap.get(cv2.CAP_PROP_FRAME_COUNT))\n",
    "    # Create the video writer\n",
    "    fourcc = cv2.VideoWriter_fourcc(*'mp4v') # correct format\n",
    "    out = cv2.VideoWriter(output_video_path, fourcc, fps, (width, height))\n",
    "    noise_transform = A.GaussNoise(var_limit=(noise_std**2, noise_std**2), p=1.0)\n",
    "    \n",
    "    \n",
    "    # Process each frame\n",
    "    frame_count = 0\n",
    "    for frame_count in range(total_frames):\n",
    "        ret, frame = cap.read()\n",
    "        if not ret:\n",
    "            break\n",
    "        # Add Gaussian noise to the frame\n",
    "        noisy_frame = noise_transform(image=frame)['image']\n",
    "        # Write the noisy frame to the output video\n",
    "        out.write(noisy_frame)\n",
    "        frame_count += 1\n",
    "        \n",
    "    # Release the video capture and writer\n",
    "    cap.release()\n",
    "    out.release()\n",
    "    \n",
    "    # Print information about the output video after sharpness\n",
    "    cv2.VideoCapture(output_video_path).release()\n",
    "    cv2.destroyAllWindows()\n",
    "\n",
    "\n"
   ]
  },
  {
   "cell_type": "code",
   "execution_count": 30,
   "metadata": {},
   "outputs": [],
   "source": [
    "gaussian_noise('./videos/football.mp4','output/gaussian.mp4', 20)"
   ]
  }
 ],
 "metadata": {
  "kernelspec": {
   "display_name": "mldecoder",
   "language": "python",
   "name": "python3"
  },
  "language_info": {
   "codemirror_mode": {
    "name": "ipython",
    "version": 3
   },
   "file_extension": ".py",
   "mimetype": "text/x-python",
   "name": "python",
   "nbconvert_exporter": "python",
   "pygments_lexer": "ipython3",
   "version": "3.10.0"
  }
 },
 "nbformat": 4,
 "nbformat_minor": 2
}
