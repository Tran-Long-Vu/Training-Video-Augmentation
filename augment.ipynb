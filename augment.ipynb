{
 "cells": [
  {
   "cell_type": "code",
   "execution_count": 22,
   "metadata": {},
   "outputs": [],
   "source": [
    "import torch\n",
    "import torchvision.transforms as tf\n",
    "import albumentations as A\n",
    "from torchvision.transforms.functional import adjust_sharpness\n",
    "\n"
   ]
  },
  {
   "cell_type": "markdown",
   "metadata": {},
   "source": [
    "# 0. Normal video cloning"
   ]
  },
  {
   "cell_type": "code",
   "execution_count": 23,
   "metadata": {},
   "outputs": [],
   "source": [
    "import cv2\n",
    "\n",
    "def read_and_write_video(input_video_path, output_video_path):\n",
    "    \"\"\"\n",
    "    Reads a video from a file and writes it to another file in MP4 format.\n",
    "    \n",
    "    Args:\n",
    "        input_video_path (str): Path to the input video file.\n",
    "        output_video_path (str): Path to the output video file.\n",
    "    \"\"\"\n",
    "    # Open the input video file\n",
    "    cap = cv2.VideoCapture(input_video_path)\n",
    "    # Get video properties\n",
    "    fps = cap.get(cv2.CAP_PROP_FPS)\n",
    "    width = int(cap.get(cv2.CAP_PROP_FRAME_WIDTH))\n",
    "    height = int(cap.get(cv2.CAP_PROP_FRAME_HEIGHT))    \n",
    "    # Create the video writer\n",
    "    fourcc = cv2.VideoWriter_fourcc(*'mp4v')\n",
    "    out = cv2.VideoWriter(output_video_path, fourcc, fps, (width, height))\n",
    "    \n",
    "    \n",
    "    # Process each frame\n",
    "    frame_count = 0\n",
    "    while True:\n",
    "        ret, frame = cap.read()\n",
    "        if not ret:\n",
    "            break\n",
    "        # Write the frame to the output video\n",
    "        out.write(frame)\n",
    "        # Update the frame count\n",
    "        frame_count += 1\n",
    "    # Release the video capture and writer\n",
    "    cap.release()\n",
    "    out.release()\n",
    "    # Get output video information\n",
    "    out_cap = cv2.VideoCapture(output_video_path)\n",
    "    out_cap.release()\n",
    "    \n",
    "\n"
   ]
  },
  {
   "cell_type": "markdown",
   "metadata": {},
   "source": [
    "# 1. Lower sharpness"
   ]
  },
  {
   "cell_type": "code",
   "execution_count": 24,
   "metadata": {},
   "outputs": [],
   "source": [
    "\n",
    "\n",
    "\n",
    "def reduce_sharpness(input_video_path, output_video_path, sharpness_factor):\n",
    "    \"\"\"\n",
    "    Reduces the sharpness of a video.\n",
    "    \n",
    "    Args:\n",
    "        input_video_path (str): Path to the input video file.\n",
    "        output_video_path (str): Path to the output video file.\n",
    "        sharpness_factor (float, optional): Sharpness factor, ranging from 0 (blurred) to 2 (sharpened). Defaults to 0.5.\n",
    "    \"\"\"\n",
    "    totensor = tf.ToTensor()\n",
    "    # Load the video\n",
    "    cap = cv2.VideoCapture(input_video_path)\n",
    "    # Get video properties\n",
    "    fps = cap.get(cv2.CAP_PROP_FPS)\n",
    "    width = int(cap.get(cv2.CAP_PROP_FRAME_WIDTH))\n",
    "    height = int(cap.get(cv2.CAP_PROP_FRAME_HEIGHT))\n",
    "    total_frames = int(cap.get(cv2.CAP_PROP_FRAME_COUNT))\n",
    "    # Create the video writer\n",
    "    fourcc = cv2.VideoWriter_fourcc(*'mp4v') # correct format\n",
    "    out = cv2.VideoWriter(output_video_path, fourcc, fps, (width, height))\n",
    "    \n",
    "    \n",
    "    \n",
    "    # Process each frame\n",
    "    frame_count = 0\n",
    "    for frame_count in range(total_frames):\n",
    "        ret, frame = cap.read()\n",
    "        if not ret:\n",
    "            break\n",
    "        # Convert the frame to a PyTorch tensor\n",
    "        frame_tensor = totensor(frame)\n",
    "        # Adjust the sharpness of the frame \n",
    "        adjusted_frame_tensor = adjust_sharpness(frame_tensor, sharpness_factor)\n",
    "        # Convert the adjusted frame back to a NumPy array\n",
    "        adjusted_frame = (adjusted_frame_tensor.squeeze(0).permute(1, 2, 0) * 255).byte().numpy()\n",
    "        # Write the adjusted frame to the output video\n",
    "        out.write(adjusted_frame)\n",
    "        frame_count += 1\n",
    "        \n",
    "    # Release the video capture and writer\n",
    "    cap.release()\n",
    "    out.release()\n",
    "    \n",
    "    # Print information about the output video after sharpness\n",
    "    cv2.VideoCapture(output_video_path).release()\n",
    "    cv2.destroyAllWindows()\n",
    "\n",
    "\n"
   ]
  },
  {
   "cell_type": "code",
   "execution_count": 28,
   "metadata": {},
   "outputs": [],
   "source": [
    "\n",
    "reduce_sharpness('./videos/football.mp4','output/low_sharp.mp4', 60) # average sharpness augmentation time: 11s\n",
    "# read_and_write_video('./videos/football.mp4','output/low_sharp.mp4')"
   ]
  },
  {
   "cell_type": "markdown",
   "metadata": {},
   "source": [
    "# 2. Gaussian noise"
   ]
  },
  {
   "cell_type": "code",
   "execution_count": 29,
   "metadata": {},
   "outputs": [],
   "source": [
    "\n",
    "\n",
    "\n",
    "def gaussian_noise(input_video_path, output_video_path, noise_std):\n",
    "    \"\"\"\n",
    "    Add Gaussian noise to video using Albumentations\n",
    "    \n",
    "    Args:\n",
    "        input_video_path (str): Path to the input video file.\n",
    "        output_video_path (str): Path to the output video file.\n",
    "        sharpness_factor (float, optional): Noise stdev, default 10\n",
    "    \"\"\"\n",
    "    totensor = tf.ToTensor()\n",
    "    # Load the video\n",
    "    cap = cv2.VideoCapture(input_video_path)\n",
    "    # Get video properties\n",
    "    fps = cap.get(cv2.CAP_PROP_FPS)\n",
    "    width = int(cap.get(cv2.CAP_PROP_FRAME_WIDTH))\n",
    "    height = int(cap.get(cv2.CAP_PROP_FRAME_HEIGHT))\n",
    "    total_frames = int(cap.get(cv2.CAP_PROP_FRAME_COUNT))\n",
    "    # Create the video writer\n",
    "    fourcc = cv2.VideoWriter_fourcc(*'mp4v') # correct format\n",
    "    out = cv2.VideoWriter(output_video_path, fourcc, fps, (width, height))\n",
    "    noise_transform = A.GaussNoise(var_limit=(noise_std**2, noise_std**2), p=1.0)\n",
    "    \n",
    "    \n",
    "    # Process each frame\n",
    "    frame_count = 0\n",
    "    for frame_count in range(total_frames):\n",
    "        ret, frame = cap.read()\n",
    "        if not ret:\n",
    "            break\n",
    "        # Add Gaussian noise to the frame\n",
    "        noisy_frame = noise_transform(image=frame)['image']\n",
    "        # Write the noisy frame to the output video\n",
    "        out.write(noisy_frame)\n",
    "        frame_count += 1\n",
    "        \n",
    "    # Release the video capture and writer\n",
    "    cap.release()\n",
    "    out.release()\n",
    "    \n",
    "    # Print information about the output video after sharpness\n",
    "    cv2.VideoCapture(output_video_path).release()\n",
    "    cv2.destroyAllWindows()\n",
    "\n",
    "\n"
   ]
  },
  {
   "cell_type": "code",
   "execution_count": 35,
   "metadata": {},
   "outputs": [],
   "source": [
    "gaussian_noise('./videos/football.mp4','output/gaussian.mp4', 20)"
   ]
  },
  {
   "cell_type": "markdown",
   "metadata": {},
   "source": [
    "# Defocus"
   ]
  },
  {
   "cell_type": "code",
   "execution_count": 32,
   "metadata": {},
   "outputs": [],
   "source": [
    "\n",
    "\n",
    "\n",
    "def defocus(input_video_path, output_video_path, blur_limit=(3, 7), sigma_limit=0.5):\n",
    "    \"\"\"\n",
    "    Add defocus blur to video using Albumentations\n",
    "    \n",
    "    Args:\n",
    "        input_video_path (str): Path to the input video file.\n",
    "        output_video_path (str): Path to the output video file.\n",
    "        blur_limit (tuple, optional): Range of blur kernel size. Defaults to (3, 7).\n",
    "        sigma_limit (float, optional): Maximum sigma value used for blurring the image. Defaults to 0.5.\n",
    "    \"\"\"\n",
    "    # totensor = tf.ToTensor()\n",
    "    # Load the video\n",
    "    cap = cv2.VideoCapture(input_video_path)\n",
    "    # Get video properties\n",
    "    fps = cap.get(cv2.CAP_PROP_FPS)\n",
    "    width = int(cap.get(cv2.CAP_PROP_FRAME_WIDTH))\n",
    "    height = int(cap.get(cv2.CAP_PROP_FRAME_HEIGHT))\n",
    "    total_frames = int(cap.get(cv2.CAP_PROP_FRAME_COUNT))\n",
    "    # Create the video writer\n",
    "    fourcc = cv2.VideoWriter_fourcc(*'mp4v') # correct format\n",
    "    out = cv2.VideoWriter(output_video_path, fourcc, fps, (width, height))\n",
    "    defocus_transform = A.Blur(blur_limit=blur_limit, sigma_limit=sigma_limit, p=1.0)    \n",
    "    \n",
    "    # Process each frame\n",
    "    frame_count = 0\n",
    "    for frame_count in range(total_frames):\n",
    "        ret, frame = cap.read()\n",
    "        if not ret:\n",
    "            break\n",
    "        # Add Gaussian noise to the frame\n",
    "        # noisy_frame = noise_transform(image=frame)['image']\n",
    "        # Write the noisy frame to the output video\n",
    "        # Apply Defocus Blur to the frame\n",
    "        blurred_frame = defocus_transform(image=frame)['image']\n",
    "        # Write the blurred frame to the output video\n",
    "        out.write(blurred_frame)\n",
    "        frame_count += 1\n",
    "        \n",
    "    # Release the video capture and writer\n",
    "    cap.release()\n",
    "    out.release()\n",
    "    \n",
    "    # Print information about the output video after sharpness\n",
    "    cv2.VideoCapture(output_video_path).release()\n",
    "    cv2.destroyAllWindows()\n",
    "\n",
    "\n"
   ]
  },
  {
   "cell_type": "code",
   "execution_count": 34,
   "metadata": {},
   "outputs": [
    {
     "name": "stderr",
     "output_type": "stream",
     "text": [
      "/tmp/ipykernel_37362/3623384518.py:21: UserWarning: Argument 'sigma_limit' is not valid and will be ignored.\n",
      "  defocus_transform = A.Blur(blur_limit=blur_limit, sigma_limit=sigma_limit, p=1.0)\n"
     ]
    }
   ],
   "source": [
    "defocus('./videos/football.mp4','output/defocus.mp4')"
   ]
  },
  {
   "cell_type": "markdown",
   "metadata": {},
   "source": [
    "# 4. Motion blur"
   ]
  },
  {
   "cell_type": "code",
   "execution_count": 3,
   "metadata": {},
   "outputs": [
    {
     "name": "stderr",
     "output_type": "stream",
     "text": [
      "/home/longvu/anaconda3/envs/python3.10/lib/python3.10/site-packages/requests/__init__.py:109: RequestsDependencyWarning: urllib3 (2.2.2) or chardet (None)/charset_normalizer (3.3.2) doesn't match a supported version!\n",
      "  warnings.warn(\n",
      "/home/longvu/.local/lib/python3.10/site-packages/tqdm/auto.py:21: TqdmWarning: IProgress not found. Please update jupyter and ipywidgets. See https://ipywidgets.readthedocs.io/en/stable/user_install.html\n",
      "  from .autonotebook import tqdm as notebook_tqdm\n"
     ]
    }
   ],
   "source": [
    "import cv2\n",
    "import albumentations as A\n",
    "\n",
    "\n",
    "def motion_blur(input_video_path, output_video_path, kernel_size=(15, 15)):\n",
    "    \"\"\"\n",
    "    Add motion blur  to video using Albumentations\n",
    "    \n",
    "    Args:\n",
    "        input_video_path (str): Path to the input video file.\n",
    "        output_video_path (str): Path to the output video file.\n",
    "        kernel_size (tuple, optional): Size of the motion blur kernel. Defaults to (15, 15).\n",
    "    \"\"\"\n",
    "    # totensor = tf.ToTensor()\n",
    "    # Load the video\n",
    "    cap = cv2.VideoCapture(input_video_path)\n",
    "    # Get video properties\n",
    "    fps = cap.get(cv2.CAP_PROP_FPS)\n",
    "    width = int(cap.get(cv2.CAP_PROP_FRAME_WIDTH))\n",
    "    height = int(cap.get(cv2.CAP_PROP_FRAME_HEIGHT))\n",
    "    total_frames = int(cap.get(cv2.CAP_PROP_FRAME_COUNT))\n",
    "    # Create the video writer\n",
    "    fourcc = cv2.VideoWriter_fourcc(*'mp4v') # correct format\n",
    "    out = cv2.VideoWriter(output_video_path, fourcc, fps, (width, height))\n",
    "    motion_blur_transform = A.MotionBlur(blur_limit=kernel_size, angle=angle, p=1.0)    \n",
    "    \n",
    "    # Process each frame\n",
    "    frame_count = 0\n",
    "    for frame_count in range(total_frames):\n",
    "        ret, frame = cap.read()\n",
    "        if not ret:\n",
    "            break\n",
    "        # Apply Motion Blur to the frame\n",
    "        blurred_frame = motion_blur_transform(image=frame)['image']\n",
    "        # Write the blurred frame to the output video\n",
    "        out.write(blurred_frame)\n",
    "        \n",
    "        frame_count += 1\n",
    "        \n",
    "    # Release the video capture and writer\n",
    "    cap.release()\n",
    "    out.release()\n",
    "    \n",
    "    # Print information about the output video after sharpness\n",
    "    cv2.VideoCapture(output_video_path).release()\n",
    "    cv2.destroyAllWindows()\n",
    "\n",
    "\n"
   ]
  },
  {
   "cell_type": "code",
   "execution_count": 10,
   "metadata": {},
   "outputs": [
    {
     "name": "stderr",
     "output_type": "stream",
     "text": [
      "/tmp/ipykernel_72087/1781256144.py:25: UserWarning: Argument 'angle' is not valid and will be ignored.\n",
      "  motion_blur_transform = A.MotionBlur(blur_limit=kernel_size, angle=angle, p=1.0)\n"
     ]
    }
   ],
   "source": [
    "motion_blur('./videos/football.mp4','output/motion_blur.mp4')"
   ]
  },
  {
   "cell_type": "markdown",
   "metadata": {},
   "source": [
    "# 5. Jitter"
   ]
  },
  {
   "cell_type": "code",
   "execution_count": 7,
   "metadata": {},
   "outputs": [],
   "source": [
    "import cv2\n",
    "import albumentations as A\n",
    "\n",
    "\n",
    "def jitter(input_video_path, output_video_path, shift_limit=0.1, scale_limit=0.1, rotate_limit=45):\n",
    "    \"\"\"\n",
    "    Add jitter to video using Albumentations\n",
    "    \n",
    "    Args:\n",
    "        input_video_path (str): Path to the input video file.\n",
    "        output_video_path (str): Path to the output video file.\n",
    "        shift_limit (float, optional): Limit of horizontal and vertical shift. Defaults to 0.1.\n",
    "        scale_limit (float, optional): Limit of scaling. Defaults to 0.1.\n",
    "        rotate_limit (int, optional): Limit of rotation in degrees. Defaults to 45.\n",
    "    \"\"\"\n",
    "    # totensor = tf.ToTensor()\n",
    "    # Load the video\n",
    "    cap = cv2.VideoCapture(input_video_path)\n",
    "    # Get video properties\n",
    "    fps = cap.get(cv2.CAP_PROP_FPS)\n",
    "    width = int(cap.get(cv2.CAP_PROP_FRAME_WIDTH))\n",
    "    height = int(cap.get(cv2.CAP_PROP_FRAME_HEIGHT))\n",
    "    total_frames = int(cap.get(cv2.CAP_PROP_FRAME_COUNT))\n",
    "    # Create the video writer\n",
    "    fourcc = cv2.VideoWriter_fourcc(*'mp4v') # correct format\n",
    "    out = cv2.VideoWriter(output_video_path, fourcc, fps, (width, height))\n",
    "    jitter_transform = A.Compose([\n",
    "            A.RandomScale(scale_limit=scale_limit, p=1.0),\n",
    "            A.RandomRotate90(p=1.0),\n",
    "            A.Rotate(limit=rotate_limit, p=1.0),\n",
    "            # A.RandomShift(shift_limit=shift_limit, p=1.0)\n",
    "        ])    \n",
    "    # Process each frame\n",
    "    frame_count = 0\n",
    "    for frame_count in range(total_frames):\n",
    "        ret, frame = cap.read()\n",
    "        if not ret:\n",
    "            break\n",
    "        # Apply Jitter to the frame\n",
    "        jittered_frame = jitter_transform(image=frame)['image']\n",
    "        # Write the jittered frame to the output video\n",
    "        out.write(jittered_frame)\n",
    "        \n",
    "        frame_count += 1\n",
    "        \n",
    "    # Release the video capture and writer\n",
    "    cap.release()\n",
    "    out.release()\n",
    "    \n",
    "    # Print information about the output video after sharpness\n",
    "    cv2.VideoCapture(output_video_path).release()\n",
    "    cv2.destroyAllWindows()\n",
    "\n",
    "\n"
   ]
  },
  {
   "cell_type": "code",
   "execution_count": 9,
   "metadata": {},
   "outputs": [],
   "source": [
    "jitter('./videos/football.mp4','output/jitter.mp4')"
   ]
  }
 ],
 "metadata": {
  "kernelspec": {
   "display_name": "mldecoder",
   "language": "python",
   "name": "python3"
  },
  "language_info": {
   "codemirror_mode": {
    "name": "ipython",
    "version": 3
   },
   "file_extension": ".py",
   "mimetype": "text/x-python",
   "name": "python",
   "nbconvert_exporter": "python",
   "pygments_lexer": "ipython3",
   "version": "3.10.0"
  }
 },
 "nbformat": 4,
 "nbformat_minor": 2
}
