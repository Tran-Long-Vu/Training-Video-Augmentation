{
 "cells": [
  {
   "cell_type": "code",
   "execution_count": 33,
   "metadata": {},
   "outputs": [
    {
     "name": "stdout",
     "output_type": "stream",
     "text": [
      "Requirement already satisfied: albumentations in /home/longvu/anaconda3/envs/mldecoder/lib/python3.10/site-packages (1.4.11)\n",
      "Requirement already satisfied: numpy>=1.24.4 in /home/longvu/anaconda3/envs/mldecoder/lib/python3.10/site-packages (from albumentations) (1.26.4)\n",
      "Requirement already satisfied: scipy>=1.10.0 in /home/longvu/.local/lib/python3.10/site-packages (from albumentations) (1.10.0)\n",
      "Requirement already satisfied: scikit-image>=0.21.0 in /home/longvu/anaconda3/envs/mldecoder/lib/python3.10/site-packages (from albumentations) (0.24.0)\n",
      "Requirement already satisfied: PyYAML in /home/longvu/anaconda3/envs/mldecoder/lib/python3.10/site-packages (from albumentations) (6.0.1)\n",
      "Requirement already satisfied: typing-extensions>=4.9.0 in /home/longvu/.local/lib/python3.10/site-packages (from albumentations) (4.12.2)\n",
      "Requirement already satisfied: scikit-learn>=1.3.2 in /home/longvu/anaconda3/envs/mldecoder/lib/python3.10/site-packages (from albumentations) (1.5.1)\n",
      "Requirement already satisfied: pydantic>=2.7.0 in /home/longvu/anaconda3/envs/mldecoder/lib/python3.10/site-packages (from albumentations) (2.8.2)\n",
      "Requirement already satisfied: albucore>=0.0.11 in /home/longvu/anaconda3/envs/mldecoder/lib/python3.10/site-packages (from albumentations) (0.0.12)\n",
      "Requirement already satisfied: eval-type-backport in /home/longvu/anaconda3/envs/mldecoder/lib/python3.10/site-packages (from albumentations) (0.2.0)\n",
      "Requirement already satisfied: opencv-python-headless>=4.9.0.80 in /home/longvu/anaconda3/envs/mldecoder/lib/python3.10/site-packages (from albumentations) (4.10.0.84)\n",
      "Requirement already satisfied: tomli>=2.0.1 in /home/longvu/anaconda3/envs/mldecoder/lib/python3.10/site-packages (from albucore>=0.0.11->albumentations) (2.0.1)\n",
      "Requirement already satisfied: annotated-types>=0.4.0 in /home/longvu/anaconda3/envs/mldecoder/lib/python3.10/site-packages (from pydantic>=2.7.0->albumentations) (0.7.0)\n",
      "Requirement already satisfied: pydantic-core==2.20.1 in /home/longvu/anaconda3/envs/mldecoder/lib/python3.10/site-packages (from pydantic>=2.7.0->albumentations) (2.20.1)\n",
      "Requirement already satisfied: networkx>=2.8 in /home/longvu/.local/lib/python3.10/site-packages (from scikit-image>=0.21.0->albumentations) (3.2.1)\n",
      "Requirement already satisfied: pillow>=9.1 in /home/longvu/anaconda3/envs/mldecoder/lib/python3.10/site-packages (from scikit-image>=0.21.0->albumentations) (10.3.0)\n",
      "Requirement already satisfied: imageio>=2.33 in /home/longvu/anaconda3/envs/mldecoder/lib/python3.10/site-packages (from scikit-image>=0.21.0->albumentations) (2.34.2)\n",
      "Requirement already satisfied: tifffile>=2022.8.12 in /home/longvu/anaconda3/envs/mldecoder/lib/python3.10/site-packages (from scikit-image>=0.21.0->albumentations) (2024.7.2)\n",
      "Requirement already satisfied: packaging>=21 in /home/longvu/.local/lib/python3.10/site-packages (from scikit-image>=0.21.0->albumentations) (24.1)\n",
      "Requirement already satisfied: lazy-loader>=0.4 in /home/longvu/anaconda3/envs/mldecoder/lib/python3.10/site-packages (from scikit-image>=0.21.0->albumentations) (0.4)\n",
      "Requirement already satisfied: joblib>=1.2.0 in /home/longvu/.local/lib/python3.10/site-packages (from scikit-learn>=1.3.2->albumentations) (1.4.2)\n",
      "Requirement already satisfied: threadpoolctl>=3.1.0 in /home/longvu/anaconda3/envs/mldecoder/lib/python3.10/site-packages (from scikit-learn>=1.3.2->albumentations) (3.5.0)\n"
     ]
    }
   ],
   "source": [
    "!pip install albumentations"
   ]
  },
  {
   "cell_type": "code",
   "execution_count": 34,
   "metadata": {},
   "outputs": [],
   "source": [
    "import torch\n",
    "import torchvision.transforms as tf\n",
    "import albumentations"
   ]
  },
  {
   "cell_type": "code",
   "execution_count": 82,
   "metadata": {},
   "outputs": [],
   "source": [
    "import cv2\n",
    "import torch\n",
    "import torchvision.transforms as tf \n",
    "\n",
    "from torchvision.transforms.functional import adjust_sharpness\n",
    "\n",
    "def reduce_sharpness(input_video_path, output_video_path):\n",
    "    \"\"\"\n",
    "    Reduces the sharpness of a video.\n",
    "    \n",
    "    Args:\n",
    "        input_video_path (str): Path to the input video file.\n",
    "        output_video_path (str): Path to the output video file.\n",
    "        sharpness_factor (float, optional): Sharpness factor, ranging from 0 (blurred) to 2 (sharpened). Defaults to 0.5.\n",
    "    \"\"\"\n",
    "    totensor = tf.ToTensor()\n",
    "    # Load the video\n",
    "    cap = cv2.VideoCapture(input_video_path)\n",
    "    \n",
    "    # Get video properties\n",
    "    fps = cap.get(cv2.CAP_PROP_FPS)\n",
    "    width = int(cap.get(cv2.CAP_PROP_FRAME_WIDTH))\n",
    "    height = int(cap.get(cv2.CAP_PROP_FRAME_HEIGHT))\n",
    "    total_frames = int(cap.get(cv2.CAP_PROP_FRAME_COUNT))\n",
    "    # Create the video writer\n",
    "    fourcc = cv2.VideoWriter_fourcc(*'mp4v') # correct format\n",
    "    out = cv2.VideoWriter(output_video_path, fourcc, fps, (width, height))\n",
    "    \n",
    "    # Print information about the input video before sharpness\n",
    "    for i in range(5):\n",
    "        ret, frame = cap.read()\n",
    "        if not ret:\n",
    "            break\n",
    "        cv2.imshow('Input Video', frame)\n",
    "        cv2.waitKey(1000)\n",
    "        cv2.destroyAllWindows()\n",
    "    \n",
    "    # Process each frame\n",
    "    frame_count = 0\n",
    "    while True:\n",
    "        ret, frame = cap.read()\n",
    "        if not ret:\n",
    "            break\n",
    "        \n",
    "        # Convert the frame to a PyTorch tensor\n",
    "        frame_tensor = totensor(frame)  # normalization error\n",
    "        \n",
    "        \n",
    "        \n",
    "        # Adjust the sharpness of the frame #TODO: ERROR sharpness\n",
    "        adjusted_frame_tensor = adjust_sharpness(frame_tensor, sharpness_factor=60) #sharpness increased by 60\n",
    "\n",
    "        \n",
    "        \n",
    "        diff = adjusted_frame_tensor - frame_tensor\n",
    "        # Convert the adjusted frame back to a NumPy array\n",
    "        adjusted_frame = (adjusted_frame_tensor.squeeze(0).permute(1, 2, 0) * 255).byte().numpy()\n",
    "        \n",
    "        # Write the adjusted frame to the output video\n",
    "        out.write(adjusted_frame)\n",
    "        \n",
    "        # Update the frame count\n",
    "        frame_count += 1\n",
    "        \n",
    "    # Release the video capture and writer\n",
    "    cap.release()\n",
    "    out.release()\n",
    "    \n",
    "    # Print information about the output video after sharpness\n",
    "    cv2.VideoCapture(output_video_path).release()\n",
    "    cv2.destroyAllWindows()\n",
    "    \n",
    "\n",
    "\n",
    "\n",
    "\n"
   ]
  },
  {
   "cell_type": "code",
   "execution_count": 83,
   "metadata": {},
   "outputs": [],
   "source": [
    "\n",
    "reduce_sharpness('./videos/football.mp4','output/low_sharp.mp4')"
   ]
  },
  {
   "cell_type": "code",
   "execution_count": 3,
   "metadata": {},
   "outputs": [
    {
     "name": "stderr",
     "output_type": "stream",
     "text": [
      "/home/longvu/.local/lib/python3.10/site-packages/tqdm/auto.py:21: TqdmWarning: IProgress not found. Please update jupyter and ipywidgets. See https://ipywidgets.readthedocs.io/en/stable/user_install.html\n",
      "  from .autonotebook import tqdm as notebook_tqdm\n"
     ]
    }
   ],
   "source": [
    "import cv2\n",
    "import torch\n",
    "from torchvision.transforms.functional import adjust_sharpness"
   ]
  },
  {
   "cell_type": "code",
   "execution_count": 48,
   "metadata": {},
   "outputs": [],
   "source": [
    "import cv2\n",
    "\n",
    "def read_and_write_video(input_video_path, output_video_path):\n",
    "    \"\"\"\n",
    "    Reads a video from a file and writes it to another file in MP4 format.\n",
    "    \n",
    "    Args:\n",
    "        input_video_path (str): Path to the input video file.\n",
    "        output_video_path (str): Path to the output video file.\n",
    "    \"\"\"\n",
    "    # Open the input video file\n",
    "    cap = cv2.VideoCapture(input_video_path)\n",
    "    \n",
    "    # Get video properties\n",
    "    fps = cap.get(cv2.CAP_PROP_FPS)\n",
    "    width = int(cap.get(cv2.CAP_PROP_FRAME_WIDTH))\n",
    "    height = int(cap.get(cv2.CAP_PROP_FRAME_HEIGHT))\n",
    "    total_frames = int(cap.get(cv2.CAP_PROP_FRAME_COUNT))\n",
    "    \n",
    "    # Print input video information\n",
    "    print(\"Input video information:\")\n",
    "    print(f\"File path: {input_video_path}\")\n",
    "    print(f\"FPS: {fps:.2f}\")\n",
    "    print(f\"Resolution: {width}x{height}\")\n",
    "    print(f\"Total frames: {total_frames}\")\n",
    "    \n",
    "    # Create the video writer\n",
    "    fourcc = cv2.VideoWriter_fourcc(*'mp4v')\n",
    "    out = cv2.VideoWriter(output_video_path, fourcc, fps, (width, height))\n",
    "    \n",
    "    # Process each frame\n",
    "    frame_count = 0\n",
    "    while True:\n",
    "        ret, frame = cap.read()\n",
    "        if not ret:\n",
    "            break\n",
    "        \n",
    "        # Write the frame to the output video\n",
    "        out.write(frame)\n",
    "        \n",
    "        # Update the frame count\n",
    "        frame_count += 1\n",
    "    \n",
    "    # Release the video capture and writer\n",
    "    cap.release()\n",
    "    out.release()\n",
    "    \n",
    "    # Get output video information\n",
    "    out_cap = cv2.VideoCapture(output_video_path)\n",
    "    out_fps = out_cap.get(cv2.CAP_PROP_FPS)\n",
    "    out_width = int(out_cap.get(cv2.CAP_PROP_FRAME_WIDTH))\n",
    "    out_height = int(out_cap.get(cv2.CAP_PROP_FRAME_HEIGHT))\n",
    "    out_total_frames = int(out_cap.get(cv2.CAP_PROP_FRAME_COUNT))\n",
    "    out_cap.release()\n",
    "    \n",
    "    # Print output video information\n",
    "    print(\"\\nOutput video information:\")\n",
    "    print(f\"File path: {output_video_path}\")\n",
    "    print(f\"FPS: {out_fps:.2f}\")\n",
    "    print(f\"Resolution: {out_width}x{out_height}\")\n",
    "    print(f\"Total frames: {out_total_frames}\")\n",
    "    \n",
    "    print(f\"Processed {frame_count} frames.\")\n",
    "\n",
    "# Example usage\n"
   ]
  },
  {
   "cell_type": "code",
   "execution_count": 49,
   "metadata": {},
   "outputs": [
    {
     "name": "stdout",
     "output_type": "stream",
     "text": [
      "Input video information:\n",
      "File path: ./videos/football.mp4\n",
      "FPS: 25.00\n",
      "Resolution: 360x640\n",
      "Total frames: 1441\n",
      "\n",
      "Output video information:\n",
      "File path: ./output/output_video.mp4\n",
      "FPS: 25.00\n",
      "Resolution: 360x640\n",
      "Total frames: 1441\n",
      "Processed 1441 frames.\n"
     ]
    }
   ],
   "source": [
    "# Example usage\n",
    "# Example usage\n",
    "read_and_write_video('./videos/football.mp4', './output/output_video.mp4')\n",
    "\n",
    "\n",
    "# reduce_sharpness('./videos/football.mp4', './output/output_video.mp4')"
   ]
  },
  {
   "cell_type": "code",
   "execution_count": null,
   "metadata": {},
   "outputs": [],
   "source": []
  }
 ],
 "metadata": {
  "kernelspec": {
   "display_name": "mldecoder",
   "language": "python",
   "name": "python3"
  },
  "language_info": {
   "codemirror_mode": {
    "name": "ipython",
    "version": 3
   },
   "file_extension": ".py",
   "mimetype": "text/x-python",
   "name": "python",
   "nbconvert_exporter": "python",
   "pygments_lexer": "ipython3",
   "version": "3.10.14"
  }
 },
 "nbformat": 4,
 "nbformat_minor": 2
}
